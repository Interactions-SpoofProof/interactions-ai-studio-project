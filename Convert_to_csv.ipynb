{
  "nbformat": 4,
  "nbformat_minor": 0,
  "metadata": {
    "colab": {
      "provenance": []
    },
    "kernelspec": {
      "name": "python3",
      "display_name": "Python 3"
    },
    "language_info": {
      "name": "python"
    }
  },
  "cells": [
    {
      "cell_type": "code",
      "execution_count": null,
      "metadata": {
        "colab": {
          "base_uri": "https://localhost:8080/"
        },
        "id": "ruVLsn4K2gIU",
        "outputId": "294fbed0-e11d-48f2-8421-f637d4ba52e2"
      },
      "outputs": [
        {
          "output_type": "stream",
          "name": "stdout",
          "text": [
            "Mounted at /content/drive\n"
          ]
        }
      ],
      "source": [
        "from google.colab import drive\n",
        "drive.mount('/content/drive')\n",
        "import pandas as pd"
      ]
    },
    {
      "cell_type": "code",
      "source": [
        "#training dataset\n",
        "import os\n",
        "\n",
        "row_list = []\n",
        "\n",
        "output_dir = '/content/drive/MyDrive/Team Interactions: SpoofProof - AudioClassification/Pyttsx3 Synthetic Training'\n",
        "if not os.path.exists(output_dir):\n",
        "    os.makedirs(output_dir)\n",
        "\n",
        "for i in range(800):\n",
        "  file_name = f'pyttsx3_synth_{i}.mp3'\n",
        "  file_path = os.path.join(output_dir, file_name)\n",
        "\n",
        "\n",
        "  row = {'file_name': file_name, 'audio': file_path, 'label': 1}\n",
        "  row_list.append(row)\n",
        "\n",
        "synth_table = pd.DataFrame(row_list, columns=['file_name', 'audio', 'label'])\n",
        "\n",
        "    #create and save in folder for synthetic audio\n"
      ],
      "metadata": {
        "id": "82PPvzZe3XqM"
      },
      "execution_count": null,
      "outputs": []
    },
    {
      "cell_type": "code",
      "source": [
        "synth_table.head()\n",
        "#synth_table.dtypes\n",
        "synth_table.to_csv('/content/drive/MyDrive/Team Interactions: SpoofProof - AudioClassification/pyttsx3_synth_table_training.csv', index=False)"
      ],
      "metadata": {
        "id": "9Id_zHmH4DBs"
      },
      "execution_count": null,
      "outputs": []
    },
    {
      "cell_type": "code",
      "source": [
        "#testing dataset\n",
        "import os\n",
        "\n",
        "row_list = []\n",
        "\n",
        "output_dir = '/content/drive/MyDrive/Team Interactions: SpoofProof - AudioClassification/Pyttsx3 Synthetic Testing'\n",
        "if not os.path.exists(output_dir):\n",
        "    os.makedirs(output_dir)\n",
        "\n",
        "for i in range(800,1000):\n",
        "  file_name = f'pyttsx3_synth_{i}.mp3'\n",
        "  file_path = os.path.join(output_dir, file_name)\n",
        "\n",
        "\n",
        "  row = {'file_name': file_name, 'audio': file_path, 'label': 1}\n",
        "  row_list.append(row)\n",
        "\n",
        "synth_table = pd.DataFrame(row_list, columns=['file_name', 'audio', 'label'])\n",
        "\n",
        "    #create and save in folder for synthetic audio"
      ],
      "metadata": {
        "id": "DdGpTu4kU8cZ"
      },
      "execution_count": null,
      "outputs": []
    },
    {
      "cell_type": "code",
      "source": [
        "synth_table.head()\n",
        "#synth_table.dtypes\n",
        "synth_table.to_csv('/content/drive/MyDrive/Team Interactions: SpoofProof - AudioClassification/pyttsx3_synth_table_testing.csv', index=False)"
      ],
      "metadata": {
        "id": "9d2eFhVoVvYE"
      },
      "execution_count": null,
      "outputs": []
    }
  ]
}